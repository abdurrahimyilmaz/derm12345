{
 "cells": [
  {
   "cell_type": "markdown",
   "id": "7a40b0e2-d203-4d10-8d32-2ca5eeb1adf2",
   "metadata": {},
   "source": [
    "### This file is to find duplicate or double taken photos (cameras sometimes take two photo at the same time with same size and resolution)"
   ]
  },
  {
   "cell_type": "code",
   "execution_count": null,
   "id": "e5a6c68f-19d6-4efe-913b-4fcb0afbf95a",
   "metadata": {
    "tags": []
   },
   "outputs": [],
   "source": [
    "import os "
   ]
  },
  {
   "cell_type": "code",
   "execution_count": null,
   "id": "92672f84-7885-43d5-a158-d801b89c34de",
   "metadata": {
    "tags": []
   },
   "outputs": [],
   "source": [
    "os.chdir(\"YOUR PATH\")"
   ]
  },
  {
   "cell_type": "code",
   "execution_count": null,
   "id": "205383d1-15a5-4b8f-9868-8282efe4ff21",
   "metadata": {
    "scrolled": true,
    "tags": []
   },
   "outputs": [],
   "source": [
    "os.listdir()"
   ]
  },
  {
   "cell_type": "code",
   "execution_count": null,
   "id": "bb834129-6894-45ac-af97-f79fdae4c8ec",
   "metadata": {
    "tags": []
   },
   "outputs": [],
   "source": [
    "filenames = os.listdir()\n",
    "sizes = []\n",
    "sizes_only = []\n",
    "\n",
    "for filename in filenames:\n",
    "    sizes.append([os.path.getsize(filename),filename])\n",
    "    sizes_only.append(os.path.getsize(filename))"
   ]
  },
  {
   "cell_type": "code",
   "execution_count": null,
   "id": "631a0d2d-e871-4e8e-91b0-6586327ae109",
   "metadata": {
    "scrolled": true,
    "tags": []
   },
   "outputs": [],
   "source": [
    "print(sizes)"
   ]
  },
  {
   "cell_type": "code",
   "execution_count": null,
   "id": "4a104b2c-7863-4418-9c15-85847f7f3b7c",
   "metadata": {
    "tags": []
   },
   "outputs": [],
   "source": [
    "sizes[1][1]"
   ]
  },
  {
   "cell_type": "code",
   "execution_count": null,
   "id": "4bf22254-13a9-4818-adbb-0d5ef8c47da4",
   "metadata": {
    "scrolled": true,
    "tags": []
   },
   "outputs": [],
   "source": [
    "duplicates = []\n",
    "counter = 0\n",
    "for [size,name] in sizes:\n",
    "    if sizes_only.count(size) > 1:\n",
    "        print(str(size) + ' ' + name)\n",
    "        duplicates.append([size,name])\n",
    "        counter = counter + 1\n",
    "        \n",
    "print(counter)"
   ]
  },
  {
   "cell_type": "code",
   "execution_count": null,
   "id": "8aa1fcdf-453a-4fa6-a19e-57d8d6fd0a87",
   "metadata": {
    "tags": []
   },
   "outputs": [],
   "source": [
    "duplicates = sorted(duplicates)\n",
    "print(len(duplicates))"
   ]
  },
  {
   "cell_type": "code",
   "execution_count": null,
   "id": "d4429c31-2b33-44ac-84cb-c293fb2cbb18",
   "metadata": {
    "scrolled": true,
    "tags": []
   },
   "outputs": [],
   "source": [
    "duplicates"
   ]
  }
 ],
 "metadata": {
  "kernelspec": {
   "display_name": "Python 3 (ipykernel)",
   "language": "python",
   "name": "python3"
  },
  "language_info": {
   "codemirror_mode": {
    "name": "ipython",
    "version": 3
   },
   "file_extension": ".py",
   "mimetype": "text/x-python",
   "name": "python",
   "nbconvert_exporter": "python",
   "pygments_lexer": "ipython3",
   "version": "3.11.5"
  }
 },
 "nbformat": 4,
 "nbformat_minor": 5
}
