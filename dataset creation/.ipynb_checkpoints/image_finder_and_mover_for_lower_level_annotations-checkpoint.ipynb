{
 "cells": [
  {
   "cell_type": "markdown",
   "id": "ce929a9e-aad5-447f-91d0-375c748d1ef9",
   "metadata": {
    "tags": []
   },
   "source": [
    "## Merging Script for Images to Upper or Lower Level Classes"
   ]
  },
  {
   "cell_type": "code",
   "execution_count": null,
   "id": "ed6be7c6-e648-4ca1-952c-bba33d80b2f5",
   "metadata": {
    "tags": []
   },
   "outputs": [],
   "source": [
    "import os\n",
    "os.getcwd()"
   ]
  },
  {
   "cell_type": "code",
   "execution_count": null,
   "id": "e239085c-6ff3-44f9-a1c6-929eaca3f6cf",
   "metadata": {
    "tags": []
   },
   "outputs": [],
   "source": [
    "os.chdir(\"YOUR PATH\")\n",
    "os.getcwd()"
   ]
  },
  {
   "cell_type": "code",
   "execution_count": null,
   "id": "b5c08416-56fd-48eb-ba01-acf6f14ae23d",
   "metadata": {
    "tags": []
   },
   "outputs": [],
   "source": [
    "filenames = os.listdir()\n",
    "sizes = []\n",
    "sizes_only = []\n",
    "\n",
    "for filename in filenames:\n",
    "    sizes.append([os.path.getsize(filename),filename])\n",
    "    sizes_only.append(os.path.getsize(filename))"
   ]
  },
  {
   "cell_type": "code",
   "execution_count": null,
   "id": "7583166c-f268-40b2-93d6-b46c3922a759",
   "metadata": {
    "scrolled": true,
    "tags": []
   },
   "outputs": [],
   "source": [
    "path = \"YOUR PATH\"\n",
    "counter = 0\n",
    "fullpaths = []\n",
    "filepaths = []\n",
    "for root, dirs, files in os.walk(path):\n",
    "        for file in files:\n",
    "            fullpaths.append(root + \"/\" + file)\n",
    "            filepaths.append(file)\n",
    "            counter = counter + 1\n",
    "        \n",
    "print(counter)"
   ]
  },
  {
   "cell_type": "code",
   "execution_count": null,
   "id": "8a21d6ab-94ed-44a1-97d5-2c4a5d411c76",
   "metadata": {
    "tags": []
   },
   "outputs": [],
   "source": [
    "croppedpaths = [filepath.split(\"_\",1)[-1] for filepath in filepaths]"
   ]
  },
  {
   "cell_type": "code",
   "execution_count": null,
   "id": "ee8c0413-7272-4799-b9d7-018367c1070a",
   "metadata": {
    "scrolled": true,
    "tags": []
   },
   "outputs": [],
   "source": [
    "sizes"
   ]
  },
  {
   "cell_type": "code",
   "execution_count": null,
   "id": "4db25e5f-80fd-42dc-a064-22ce3dbbf7ac",
   "metadata": {
    "scrolled": true,
    "tags": []
   },
   "outputs": [],
   "source": [
    "differentname = []\n",
    "for i in range(len(sizes)):\n",
    "    if sizes[i][1].split(\"_\",1)[-1] in croppedpaths:\n",
    "        index = croppedpaths.index(sizes[i][1].split(\"_\",1)[-1])\n",
    "        os.replace(fullpaths[index], fullpaths[index].replace(\"FIRST KEYWORD\", \"SECOND KEYWORD\"))\n",
    "        os.replace(os.getcwd() + \"\\\\\" + sizes[i][1], fullpaths[index].replace(\"FIRST KEYWORD\", \"SECOND KEYWORD\").replace(filepaths[index],sizes[i][1]))\n",
    "    else:\n",
    "        differentname.append(sizes[i][1].split(\"_\",1)[-1]) # if doesn't match, save them for manual checking\n",
    "        continue\n",
    "    "
   ]
  },
  {
   "cell_type": "code",
   "execution_count": null,
   "id": "aa75cc84-1099-4ad6-aa2b-abe91125f5b4",
   "metadata": {
    "scrolled": true,
    "tags": []
   },
   "outputs": [],
   "source": [
    "differentname"
   ]
  }
 ],
 "metadata": {
  "kernelspec": {
   "display_name": "Python 3 (ipykernel)",
   "language": "python",
   "name": "python3"
  },
  "language_info": {
   "codemirror_mode": {
    "name": "ipython",
    "version": 3
   },
   "file_extension": ".py",
   "mimetype": "text/x-python",
   "name": "python",
   "nbconvert_exporter": "python",
   "pygments_lexer": "ipython3",
   "version": "3.11.5"
  }
 },
 "nbformat": 4,
 "nbformat_minor": 5
}
