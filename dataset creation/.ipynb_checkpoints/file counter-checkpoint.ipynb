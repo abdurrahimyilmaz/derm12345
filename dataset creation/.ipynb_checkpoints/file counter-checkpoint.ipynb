{
 "cells": [
  {
   "cell_type": "code",
   "execution_count": null,
   "id": "85c3e343-3e12-4d4f-8031-0cfbba074639",
   "metadata": {
    "tags": []
   },
   "outputs": [],
   "source": [
    "import os\n",
    "from collections import Counter"
   ]
  },
  {
   "cell_type": "code",
   "execution_count": null,
   "id": "c07d5d66-827c-4266-aeac-78ca49e0620c",
   "metadata": {
    "tags": []
   },
   "outputs": [],
   "source": [
    "os.chdir(\"YOUR PATH\")"
   ]
  },
  {
   "cell_type": "code",
   "execution_count": null,
   "id": "dbe6d9b4-eafd-4a02-805f-e51988933cb7",
   "metadata": {
    "scrolled": true,
    "tags": []
   },
   "outputs": [],
   "source": [
    "files = os.listdir()"
   ]
  },
  {
   "cell_type": "code",
   "execution_count": null,
   "id": "dc93c585-c982-490d-b2cd-a3a5ff1aea38",
   "metadata": {
    "scrolled": true,
    "tags": []
   },
   "outputs": [],
   "source": [
    "os.listdir()"
   ]
  },
  {
   "cell_type": "markdown",
   "id": "d0f3d0e6-ed7d-4bb1-9980-744cfe0e3799",
   "metadata": {},
   "source": [
    "### Count images not taken by using digital dermoscopic device - File counter according to their exif information (creating, accessed or modified time)"
   ]
  },
  {
   "cell_type": "code",
   "execution_count": null,
   "id": "95c27f12-a1c2-492d-8ad5-a100538e88fd",
   "metadata": {
    "tags": []
   },
   "outputs": [],
   "source": [
    "files.sort(key=os.path.getmtime)"
   ]
  },
  {
   "cell_type": "code",
   "execution_count": null,
   "id": "2dd0bcf9-bd98-442c-afec-7fb0a45517cd",
   "metadata": {
    "tags": []
   },
   "outputs": [],
   "source": [
    "import time\n",
    "import datetime\n",
    "from datetime import datetime\n",
    "from time import mktime\n",
    "\n",
    "c_ti = []\n",
    "\n",
    "for i in range(0,len(files)):\n",
    "    ti_c = os.path.getatime(files[i])\n",
    "    ti_c = time.ctime(ti_c)\n",
    "    ti_c = time.strptime(ti_c)\n",
    "    ti_c = datetime.fromtimestamp(mktime(ti_c))\n",
    "    c_ti.append(ti_c.strftime(\"%m/%d/%Y\"))\n",
    "    #c_ti.append(time.strftime(\"%m/%d/%Y\"))\n"
   ]
  },
  {
   "cell_type": "code",
   "execution_count": null,
   "id": "06d22716-5294-44a5-86ae-2e6529086687",
   "metadata": {
    "scrolled": true,
    "tags": []
   },
   "outputs": [],
   "source": [
    "c_ti"
   ]
  },
  {
   "cell_type": "code",
   "execution_count": null,
   "id": "9196d9c5-3b23-4f75-bd71-25f7258443ad",
   "metadata": {
    "tags": []
   },
   "outputs": [],
   "source": [
    "Counter(c_ti).keys() # equals to list(set(words))"
   ]
  },
  {
   "cell_type": "code",
   "execution_count": null,
   "id": "9a9da888-4b3b-41c0-95bf-a3d6389f24d7",
   "metadata": {
    "tags": []
   },
   "outputs": [],
   "source": [
    "Counter(c_ti).values() # counts the elements' frequency"
   ]
  },
  {
   "cell_type": "markdown",
   "id": "1f54598c-e019-40fc-83d5-74135996d8d2",
   "metadata": {
    "tags": []
   },
   "source": [
    "## Count Key Based - Some devices create the images with specific keywords"
   ]
  },
  {
   "cell_type": "code",
   "execution_count": null,
   "id": "09769ddd-068e-45f3-948c-bc19884d2b7c",
   "metadata": {
    "tags": []
   },
   "outputs": [],
   "source": [
    "patient_index_elm = []\n",
    "patient_index_notelm = []\n",
    "\n",
    "for i in range(0, len(files)):\n",
    "    if \"YOUR KEYWORD\" in files[i].split(\"_\"): #change \"_\" with the format of file structure\n",
    "        patient_index_elm.append(files[i].split(\"_\")[files[i].split(\"_\").index(\"YOUR KEYWORD\") + 1]) #change \"_\" with the format of file structure\n",
    "    else:\n",
    "        patient_index_notelm.append(files[i])"
   ]
  },
  {
   "cell_type": "code",
   "execution_count": null,
   "id": "cb155301-88e8-499a-9d2b-24360d970f3d",
   "metadata": {
    "scrolled": true,
    "tags": []
   },
   "outputs": [],
   "source": [
    "len(patient_index_elm)"
   ]
  },
  {
   "cell_type": "code",
   "execution_count": null,
   "id": "55446749-bb7c-41ce-bdd1-40ee551bcad2",
   "metadata": {
    "tags": []
   },
   "outputs": [],
   "source": [
    "len(Counter(patient_index_elm).keys()) # equals to list(set(words))"
   ]
  },
  {
   "cell_type": "code",
   "execution_count": null,
   "id": "874e27c5-758a-48db-9b70-f1a7dce026a2",
   "metadata": {
    "tags": []
   },
   "outputs": [],
   "source": [
    "Counter(patient_index_elm).values() # counts the elements' frequency"
   ]
  }
 ],
 "metadata": {
  "kernelspec": {
   "display_name": "Python 3 (ipykernel)",
   "language": "python",
   "name": "python3"
  },
  "language_info": {
   "codemirror_mode": {
    "name": "ipython",
    "version": 3
   },
   "file_extension": ".py",
   "mimetype": "text/x-python",
   "name": "python",
   "nbconvert_exporter": "python",
   "pygments_lexer": "ipython3",
   "version": "3.11.5"
  }
 },
 "nbformat": 4,
 "nbformat_minor": 5
}
