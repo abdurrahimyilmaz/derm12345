{
 "cells": [
  {
   "cell_type": "code",
   "execution_count": null,
   "id": "b2c4bde9-4849-447d-abfa-3acae92c330e",
   "metadata": {},
   "outputs": [],
   "source": [
    "import os"
   ]
  },
  {
   "cell_type": "code",
   "execution_count": null,
   "id": "1783de94-96a5-4b2c-a5c0-fb60bfafa439",
   "metadata": {
    "tags": []
   },
   "outputs": [],
   "source": [
    "os.chdir(\"YOUR PATH\")"
   ]
  },
  {
   "cell_type": "code",
   "execution_count": null,
   "id": "894c78cc-dcb4-4bbc-967b-dcb28960881a",
   "metadata": {
    "tags": []
   },
   "outputs": [],
   "source": [
    "files = os.listdir()"
   ]
  },
  {
   "cell_type": "code",
   "execution_count": null,
   "id": "74c7c041-8456-4f8f-bf62-d2d5b67bbfc9",
   "metadata": {
    "tags": []
   },
   "outputs": [],
   "source": [
    "new_names = []\n",
    "for i in range(0,len(files)):\n",
    "    converted_list = map(str, files[i].split(\"_\")[-2:-1] + files[i].split(\"_\")[-1:])\n",
    "    result = '_'.join(converted_list)\n",
    "    os.rename(files[i], result)\n",
    "    new_names.append(result)"
   ]
  }
 ],
 "metadata": {
  "kernelspec": {
   "display_name": "Python 3 (ipykernel)",
   "language": "python",
   "name": "python3"
  },
  "language_info": {
   "codemirror_mode": {
    "name": "ipython",
    "version": 3
   },
   "file_extension": ".py",
   "mimetype": "text/x-python",
   "name": "python",
   "nbconvert_exporter": "python",
   "pygments_lexer": "ipython3",
   "version": "3.11.5"
  }
 },
 "nbformat": 4,
 "nbformat_minor": 5
}
