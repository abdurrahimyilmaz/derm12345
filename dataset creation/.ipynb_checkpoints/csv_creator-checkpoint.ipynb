{
 "cells": [
  {
   "cell_type": "markdown",
   "id": "e2180d63-01e3-49e2-81f5-2e13872a09da",
   "metadata": {},
   "source": [
    "## Move between paths"
   ]
  },
  {
   "cell_type": "code",
   "execution_count": null,
   "id": "6d566b25-f9f4-454e-a64a-a28aa9ccc005",
   "metadata": {
    "tags": []
   },
   "outputs": [],
   "source": [
    "import os\n",
    "from collections import Counter\n",
    "import csv\n",
    "import random\n",
    "import magic"
   ]
  },
  {
   "cell_type": "code",
   "execution_count": null,
   "id": "f277b754-d784-4836-b07f-31c7aa9c9dc3",
   "metadata": {
    "scrolled": true,
    "tags": []
   },
   "outputs": [],
   "source": [
    "os.chdir(\"YOUR PATH\")\n",
    "os.listdir()"
   ]
  },
  {
   "cell_type": "code",
   "execution_count": null,
   "id": "c690353a-4bd8-4070-8f89-87cebec809b3",
   "metadata": {
    "tags": []
   },
   "outputs": [],
   "source": [
    "import time\n",
    "files = os.listdir()"
   ]
  },
  {
   "cell_type": "code",
   "execution_count": null,
   "id": "0226d379-010c-4296-8ea3-cadc045dbf83",
   "metadata": {
    "tags": []
   },
   "outputs": [],
   "source": [
    "#os.chdir(\"..\")\n",
    "os.listdir()"
   ]
  },
  {
   "cell_type": "code",
   "execution_count": null,
   "id": "f6db9ca1-5d4e-4ce0-9f24-adfe74bda64b",
   "metadata": {
    "tags": []
   },
   "outputs": [],
   "source": [
    "os.chdir(os.listdir()[0]) #move between paths to be ensure that you are at correct path, you can paste here the path directly but it sometimes cause human error\n",
    "os.listdir()"
   ]
  },
  {
   "cell_type": "code",
   "execution_count": null,
   "id": "370c952d-02fd-4302-94e6-20ead76b4877",
   "metadata": {
    "tags": []
   },
   "outputs": [],
   "source": [
    "os.chdir(os.listdir()[0])\n",
    "os.listdir()"
   ]
  },
  {
   "cell_type": "code",
   "execution_count": null,
   "id": "26c2b5f5-66ae-4a41-92a9-c46e6e973e7d",
   "metadata": {
    "tags": []
   },
   "outputs": [],
   "source": [
    "os.chdir(os.listdir()[0])\n",
    "os.listdir()"
   ]
  },
  {
   "cell_type": "code",
   "execution_count": null,
   "id": "27ef6f25-4e37-4a91-989c-f6ceb9296b2b",
   "metadata": {
    "scrolled": true,
    "tags": []
   },
   "outputs": [],
   "source": [
    "os.chdir(os.listdir()[0])\n",
    "os.listdir()"
   ]
  },
  {
   "cell_type": "code",
   "execution_count": null,
   "id": "8bf97dc5-cbef-4f76-8905-4a41fae56de6",
   "metadata": {
    "scrolled": true,
    "tags": []
   },
   "outputs": [],
   "source": [
    "os.chdir(os.listdir()[0])\n",
    "\n",
    "included_extensions = ['JPG', 'jpg', 'jpeg', 'JPEG', 'bmp', 'BMP', 'png', 'PNG', 'gif']\n",
    "files = [fn for fn in os.listdir(os.getcwd())\n",
    "              if any(fn.endswith(ext) for ext in included_extensions)]\n",
    "\n",
    "print(len(files))\n",
    "files"
   ]
  },
  {
   "cell_type": "markdown",
   "id": "053eae77-2495-4458-b2d3-fa3b66f2f242",
   "metadata": {
    "tags": []
   },
   "source": [
    "## CSV Part"
   ]
  },
  {
   "cell_type": "code",
   "execution_count": null,
   "id": "9648dc1e-2a45-48ef-9f8b-d11794d5efff",
   "metadata": {
    "tags": []
   },
   "outputs": [],
   "source": [
    "recovery = files\n",
    "csv_format = []"
   ]
  },
  {
   "cell_type": "code",
   "execution_count": null,
   "id": "b4a2c620-202f-415e-9047-291c14aa2931",
   "metadata": {
    "scrolled": true,
    "tags": []
   },
   "outputs": [],
   "source": [
    "for i in range(len(csv_format),len(files)):\n",
    "    random_name = 'ID_' + str(random.randrange(100000,999999))\n",
    "\n",
    "    os.rename(files[i], random_name + \".jpg\")\n",
    "    csv_format.append([random_name, files[i], \"your labels\"]) #e.g. \"nonmelanocytic\", \"malignant\", \"keratinocytic\", \"keratinocytic\", \"kaposi_sarcoma\"\n",
    "    \n",
    "csv_format"
   ]
  },
  {
   "cell_type": "code",
   "execution_count": null,
   "id": "df0025ef-9b8c-4802-89ce-85a304f1dc71",
   "metadata": {
    "tags": []
   },
   "outputs": [],
   "source": [
    "len(csv_format)"
   ]
  },
  {
   "cell_type": "code",
   "execution_count": null,
   "id": "30d7278a-0e44-4f4b-b81d-cd7f0156cd92",
   "metadata": {
    "tags": []
   },
   "outputs": [],
   "source": [
    "files = os.listdir()\n",
    "csv_name = 'YOUR FILE NAME'"
   ]
  },
  {
   "cell_type": "code",
   "execution_count": null,
   "id": "8ae53c2b-95c9-48b9-87ac-a7faf332a949",
   "metadata": {
    "tags": []
   },
   "outputs": [],
   "source": [
    "with open(csv_name,'a',newline='',encoding=\"utf-8\") as fd:\n",
    "    writer = csv.writer(fd)\n",
    "    writer.writerows(csv_format)"
   ]
  }
 ],
 "metadata": {
  "kernelspec": {
   "display_name": "Python 3 (ipykernel)",
   "language": "python",
   "name": "python3"
  },
  "language_info": {
   "codemirror_mode": {
    "name": "ipython",
    "version": 3
   },
   "file_extension": ".py",
   "mimetype": "text/x-python",
   "name": "python",
   "nbconvert_exporter": "python",
   "pygments_lexer": "ipython3",
   "version": "3.11.5"
  }
 },
 "nbformat": 4,
 "nbformat_minor": 5
}
