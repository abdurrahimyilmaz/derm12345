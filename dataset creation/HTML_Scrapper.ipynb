{
 "cells": [
  {
   "cell_type": "markdown",
   "id": "15f5da72-b106-4248-8f95-2d9e17c0c951",
   "metadata": {},
   "source": [
    "### HTML Scrapper for Automated Metadata Creation"
   ]
  },
  {
   "cell_type": "code",
   "execution_count": null,
   "id": "81d00e8d-e226-43e0-9a0f-60b5beb28596",
   "metadata": {
    "tags": []
   },
   "outputs": [],
   "source": [
    "import os\n",
    "\n",
    "# Importing BeautifulSoup class from the bs4 module \n",
    "from bs4 import BeautifulSoup \n",
    "  \n",
    "# Importing the HTTP library \n",
    "import requests as req \n",
    "import pandas as pd"
   ]
  },
  {
   "cell_type": "code",
   "execution_count": null,
   "id": "5806287e-cabc-46ee-be1a-6d43b72cebfb",
   "metadata": {
    "tags": []
   },
   "outputs": [],
   "source": [
    "print(os.getcwd())\n",
    "path = \"YOUR PATH\"\n",
    "os.chdir(path)\n",
    "print(os.getcwd())\n",
    "\n",
    "pathRaw = path + \"YOUR SUB PATH\"\n",
    "os.chdir(pathRaw)"
   ]
  },
  {
   "cell_type": "code",
   "execution_count": null,
   "id": "1ce9648d-8925-41a2-885e-f63a12420b66",
   "metadata": {
    "tags": []
   },
   "outputs": [],
   "source": [
    "pathsRaw = os.listdir(pathRaw)"
   ]
  },
  {
   "cell_type": "code",
   "execution_count": null,
   "id": "dc47acbc-dc4b-4cdc-8b69-03b34a97af4f",
   "metadata": {
    "scrolled": true,
    "tags": []
   },
   "outputs": [],
   "source": [
    "counter = 0\n",
    "df = pd.DataFrame(columns=[\"YOUR COLUMNS\"]) #Create your dataframe what you want e.g. 'ID','Location','Diagnosis','Image Size'\n",
    "\n",
    "for path in pathsRaw:\n",
    "    currentPatientPath = pathRaw + \"/\" + path + \"/SUBPATH\"\n",
    "    \n",
    "    for root, dirnames, filenames in os.walk(currentPatientPath):\n",
    "        for filename in filenames:\n",
    "            if filename != \"image.html\" and filename.endswith('.html'): # if your subpath contain nonrelated files, exclude them\n",
    "                counter = counter + 1\n",
    "                currentHtmlPath = currentPatientPath + \"/\" + filename\n",
    "                \n",
    "                HTMLFile = open(currentHtmlPath, \"r\") \n",
    "  \n",
    "                # Reading the file \n",
    "                index = HTMLFile.read() \n",
    "                  \n",
    "                # Creating a BeautifulSoup object and specifying the parser \n",
    "                bs = BeautifulSoup(index, 'lxml') \n",
    "                  \n",
    "                names = bs.findAll('table')[3].findAll('b')\n",
    "                values = bs.findAll('table')[3].findAll('p')\n",
    "                \n",
    "                #print(names[0].text) # find the related position what you want\n",
    "                #print(values[2].text) # for debug purposes\n",
    "                \n",
    "                #print(names[4].text) # for debug purposes\n",
    "                #print(values[10].text) # for debug purposes\n",
    "                \n",
    "                #print(names[6].text) # for debug purposes\n",
    "                #print(values[14].text) # for debug purposes\n",
    "                \n",
    "                #print(names[14].text) # for debug purposes\n",
    "                #print(values[31].text) # for debug purposes\n",
    "                #print(\"Counter = \" + str(counter)) # for debug purposes\n",
    "                \n",
    "                #df.append([values[2].text,values[10].text,values[14].text,values[31].text], ignore_index=True) # for debug purposes\n",
    "                df.loc[len(df)] = [values[2].text,values[10].text,values[14].text,values[31].text]\n",
    "                "
   ]
  },
  {
   "cell_type": "code",
   "execution_count": null,
   "id": "d50133af-4464-4183-b1ad-7893e361d0fa",
   "metadata": {
    "tags": []
   },
   "outputs": [],
   "source": [
    "df"
   ]
  },
  {
   "cell_type": "code",
   "execution_count": null,
   "id": "35e80c1b-781c-4931-980c-e987f3402fb3",
   "metadata": {
    "tags": []
   },
   "outputs": [],
   "source": [
    "df.to_excel('output.xlsx') # Export it"
   ]
  }
 ],
 "metadata": {
  "kernelspec": {
   "display_name": "Python 3 (ipykernel)",
   "language": "python",
   "name": "python3"
  },
  "language_info": {
   "codemirror_mode": {
    "name": "ipython",
    "version": 3
   },
   "file_extension": ".py",
   "mimetype": "text/x-python",
   "name": "python",
   "nbconvert_exporter": "python",
   "pygments_lexer": "ipython3",
   "version": "3.11.5"
  },
  "toc-showcode": false
 },
 "nbformat": 4,
 "nbformat_minor": 5
}
