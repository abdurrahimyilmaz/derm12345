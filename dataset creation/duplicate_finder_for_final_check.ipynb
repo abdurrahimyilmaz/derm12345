{
 "cells": [
  {
   "cell_type": "markdown",
   "id": "49ddc242-e1a1-48be-908d-5765be91e54f",
   "metadata": {
    "tags": []
   },
   "source": [
    "## Change file name to be able to track files"
   ]
  },
  {
   "cell_type": "code",
   "execution_count": null,
   "id": "53369f01-b160-4920-ba3b-81bf4297fc48",
   "metadata": {
    "tags": []
   },
   "outputs": [],
   "source": [
    "import os\n",
    "initial_path = os.getcwd()\n",
    "initial_path"
   ]
  },
  {
   "cell_type": "code",
   "execution_count": null,
   "id": "191e9624-b765-47a6-9deb-5285fc121676",
   "metadata": {
    "tags": []
   },
   "outputs": [],
   "source": [
    "os.chdir(initial_path)\n",
    "os.getcwd()"
   ]
  },
  {
   "cell_type": "code",
   "execution_count": null,
   "id": "0eef59df-5964-4984-aafe-a7d6bcee4f19",
   "metadata": {
    "tags": []
   },
   "outputs": [],
   "source": [
    "os.chdir(\"YOUR PATH\")\n",
    "keyword = \"bcc\" # to create a consistent file structure like bcc_filename\n",
    "os.getcwd()"
   ]
  },
  {
   "cell_type": "code",
   "execution_count": null,
   "id": "0cd1a1a4-0b76-4706-82c2-f2f06edcbfc3",
   "metadata": {
    "scrolled": true,
    "tags": []
   },
   "outputs": [],
   "source": [
    "os.listdir()"
   ]
  },
  {
   "cell_type": "code",
   "execution_count": null,
   "id": "ff6ade48-7f4f-4880-b9c8-3ba0f57a1957",
   "metadata": {
    "tags": []
   },
   "outputs": [],
   "source": [
    "print(os.getcwd())\n",
    "len(os.listdir())"
   ]
  },
  {
   "cell_type": "code",
   "execution_count": null,
   "id": "ec859097-b643-4e09-81c4-48f8116316a5",
   "metadata": {
    "tags": []
   },
   "outputs": [],
   "source": [
    "filenames = os.listdir()\n",
    "counter = 0\n",
    "\n",
    "for filename in filenames:\n",
    "    if filename.split(\"_\")[0] != keyword:\n",
    "        os.rename(filename, keyword + \"_\" + filename)\n",
    "        counter = counter + 1\n",
    "        \n",
    "print(counter)"
   ]
  },
  {
   "cell_type": "markdown",
   "id": "ce929a9e-aad5-447f-91d0-375c748d1ef9",
   "metadata": {
    "tags": []
   },
   "source": [
    "## This part is to merge multiple annotations from different annotators and check their integrity"
   ]
  },
  {
   "cell_type": "code",
   "execution_count": null,
   "id": "ed6be7c6-e648-4ca1-952c-bba33d80b2f5",
   "metadata": {
    "tags": []
   },
   "outputs": [],
   "source": [
    "#everytime restart kernel and select a folder from os.listdir\n",
    "import os\n",
    "os.getcwd()"
   ]
  },
  {
   "cell_type": "code",
   "execution_count": null,
   "id": "e239085c-6ff3-44f9-a1c6-929eaca3f6cf",
   "metadata": {
    "tags": []
   },
   "outputs": [],
   "source": [
    "os.chdir(\"YOUR PATH\")\n",
    "os.getcwd()"
   ]
  },
  {
   "cell_type": "code",
   "execution_count": null,
   "id": "7583166c-f268-40b2-93d6-b46c3922a759",
   "metadata": {
    "scrolled": true,
    "tags": []
   },
   "outputs": [],
   "source": [
    "#os.listdir()"
   ]
  },
  {
   "cell_type": "code",
   "execution_count": null,
   "id": "b5c08416-56fd-48eb-ba01-acf6f14ae23d",
   "metadata": {
    "tags": []
   },
   "outputs": [],
   "source": [
    "filenames = os.listdir()\n",
    "sizes = []\n",
    "sizes_only = []\n",
    "\n",
    "for filename in filenames:\n",
    "    sizes.append([os.path.getsize(filename),filename])\n",
    "    sizes_only.append(os.path.getsize(filename))"
   ]
  },
  {
   "cell_type": "code",
   "execution_count": null,
   "id": "87ee31e8-ed3e-4c2f-a8d6-817b50d985a6",
   "metadata": {
    "scrolled": true,
    "tags": []
   },
   "outputs": [],
   "source": [
    "#print(sizes)"
   ]
  },
  {
   "cell_type": "code",
   "execution_count": null,
   "id": "1770f4f6-9256-465f-8795-be11dceddfa3",
   "metadata": {
    "scrolled": true,
    "tags": []
   },
   "outputs": [],
   "source": [
    "duplicates = []\n",
    "nonduplicates = []\n",
    "dupcounter = 0\n",
    "nondupcounter = 0\n",
    "for [size,name] in sizes:\n",
    "    if sizes_only.count(size) > 1:\n",
    "        #print(str(size) + ' ' + name)\n",
    "        duplicates.append([size,name])\n",
    "        dupcounter = dupcounter + 1\n",
    "    else:\n",
    "        nonduplicates.append([size,name]) \n",
    "        nondupcounter = nondupcounter + 1\n",
    "\n",
    "print(dupcounter)      \n",
    "print(nondupcounter)"
   ]
  },
  {
   "cell_type": "code",
   "execution_count": null,
   "id": "439e5ac6-8145-4483-a580-ff2706e7b37c",
   "metadata": {
    "scrolled": true,
    "tags": []
   },
   "outputs": [],
   "source": [
    "nonduplicates"
   ]
  },
  {
   "cell_type": "code",
   "execution_count": null,
   "id": "44c38572-3334-4c95-9166-3e1fe15aef81",
   "metadata": {
    "tags": []
   },
   "outputs": [],
   "source": [
    "duplicates = sorted(duplicates)\n",
    "print(len(duplicates))"
   ]
  },
  {
   "cell_type": "code",
   "execution_count": null,
   "id": "c7c0ac48-c628-4352-a4bc-ac90e5c7070f",
   "metadata": {
    "scrolled": true,
    "tags": []
   },
   "outputs": [],
   "source": [
    "duplicates"
   ]
  },
  {
   "cell_type": "code",
   "execution_count": null,
   "id": "aa75cc84-1099-4ad6-aa2b-abe91125f5b4",
   "metadata": {
    "scrolled": true,
    "tags": []
   },
   "outputs": [],
   "source": [
    "counter = 0\n",
    "contained = []\n",
    "noncontained = []\n",
    "multiple = []\n",
    "for i in range(1, len(duplicates)+1):\n",
    "    if duplicates[i-2][1].split(\"_\")[-1] == duplicates[i-1][1].split(\"_\")[-1] and duplicates[i-2][1].split(\"_\")[-2] == duplicates[i-1][1].split(\"_\")[-2]:\n",
    "        contained.append(duplicates[i-2])\n",
    "    else:\n",
    "        if duplicates[i-2][0] == duplicates[i-1][0]:\n",
    "            multiple.append(duplicates[i-2])\n",
    "            multiple.append(duplicates[i-1])\n",
    "        else:\n",
    "            noncontained.append(duplicates[i-2])"
   ]
  },
  {
   "cell_type": "code",
   "execution_count": null,
   "id": "d142c73d-cd3a-45d7-85fb-92d1552352ff",
   "metadata": {
    "tags": []
   },
   "outputs": [],
   "source": [
    "counter = 0\n",
    "patient_control = []\n",
    "for i in range(1, len(duplicates)+1):\n",
    "    if duplicates[i-2][1].split(\"_\")[-2] == duplicates[i-1][1].split(\"_\")[-2]:\n",
    "        patient_control.append(duplicates[i-1])\n",
    "        patient_control.append(duplicates[i-2])"
   ]
  },
  {
   "cell_type": "code",
   "execution_count": null,
   "id": "3b02a17c-72b1-4c95-903a-dee31af6ac40",
   "metadata": {
    "tags": []
   },
   "outputs": [],
   "source": [
    "sorted(patient_control)"
   ]
  },
  {
   "cell_type": "code",
   "execution_count": null,
   "id": "62f9b3da-8d5c-4cff-b90b-5625b4159895",
   "metadata": {
    "tags": []
   },
   "outputs": [],
   "source": [
    "print(len(contained))\n",
    "print(len(noncontained))\n",
    "print(len(multiple))\n",
    "print(\"total: \" + str(len(contained) + len(noncontained) + len(multiple)))"
   ]
  },
  {
   "cell_type": "code",
   "execution_count": null,
   "id": "dbb4f6f9-4063-4be4-bce5-c539e0b0e910",
   "metadata": {
    "scrolled": true,
    "tags": []
   },
   "outputs": [],
   "source": [
    "movepath = \"YOUR PATH\"\n",
    "\n",
    "for i in range(0,len(contained)):\n",
    "    os.replace(os.getcwd() + \"\\\\\" + contained[i][1], movepath + \"\\\\\" + contained[i][1])"
   ]
  },
  {
   "cell_type": "code",
   "execution_count": null,
   "id": "7ee6c09c-d2dc-4af1-bd4c-7f770c611ef0",
   "metadata": {
    "tags": []
   },
   "outputs": [],
   "source": [
    "for i in range(0,len(noncontained)):\n",
    "    os.replace(os.getcwd() + \"\\\\\" + noncontained[i][1], movepath + \"\\\\\" + noncontained[i][1])"
   ]
  },
  {
   "cell_type": "code",
   "execution_count": null,
   "id": "67369b67-0236-4b4d-9d03-2c4562720cd5",
   "metadata": {
    "scrolled": true,
    "tags": []
   },
   "outputs": [],
   "source": [
    "contained"
   ]
  },
  {
   "cell_type": "code",
   "execution_count": null,
   "id": "58f387ff-b77d-4389-ac2b-4ca57637458b",
   "metadata": {
    "scrolled": true,
    "tags": []
   },
   "outputs": [],
   "source": [
    "noncontained"
   ]
  },
  {
   "cell_type": "code",
   "execution_count": null,
   "id": "12f61e75-2b31-4cbb-b5e1-2d1a0952d7d3",
   "metadata": {
    "scrolled": true,
    "tags": []
   },
   "outputs": [],
   "source": [
    "multiple"
   ]
  },
  {
   "cell_type": "markdown",
   "id": "5f422097-3822-49ca-a546-87c5586bda9c",
   "metadata": {
    "tags": []
   },
   "source": [
    "## Change file name in array \"multiple\" to manuel checking"
   ]
  },
  {
   "cell_type": "code",
   "execution_count": null,
   "id": "4dcd5aea-cd6f-4c5e-a984-72e4a7b4e64d",
   "metadata": {
    "tags": []
   },
   "outputs": [],
   "source": [
    "os.chdir(\"YOUR PATH\")\n",
    "os.getcwd()"
   ]
  },
  {
   "cell_type": "code",
   "execution_count": null,
   "id": "660d397a-cb28-4c93-863f-747926dc8ac9",
   "metadata": {
    "tags": []
   },
   "outputs": [],
   "source": [
    "for i in range(1,len(multiple),2):\n",
    "    os.rename(multiple[i][1], multiple[i][1][:-4] + \"_\" + multiple[i-1][1].split(\"_\")[-1])\n",
    "    if multiple[i][1] != multiple[i][1][:-4] + \"_\" + multiple[i-1][1]:\n",
    "        os.rename(multiple[i][1], multiple[i][1][:-4] + \"_\" + multiple[i-1][1])"
   ]
  }
 ],
 "metadata": {
  "kernelspec": {
   "display_name": "Python 3 (ipykernel)",
   "language": "python",
   "name": "python3"
  },
  "language_info": {
   "codemirror_mode": {
    "name": "ipython",
    "version": 3
   },
   "file_extension": ".py",
   "mimetype": "text/x-python",
   "name": "python",
   "nbconvert_exporter": "python",
   "pygments_lexer": "ipython3",
   "version": "3.11.5"
  }
 },
 "nbformat": 4,
 "nbformat_minor": 5
}
