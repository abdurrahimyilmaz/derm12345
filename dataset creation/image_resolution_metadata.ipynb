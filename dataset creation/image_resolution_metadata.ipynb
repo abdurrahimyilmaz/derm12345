{
 "cells": [
  {
   "cell_type": "code",
   "execution_count": null,
   "id": "33f5c140-a687-4773-91da-701d8a8d6e0e",
   "metadata": {
    "tags": []
   },
   "outputs": [],
   "source": [
    "import os\n",
    "from collections import Counter\n",
    "import csv\n",
    "import random\n",
    "import magic\n",
    "import imagesize"
   ]
  },
  {
   "cell_type": "code",
   "execution_count": null,
   "id": "9b8a1dfb-2e50-4299-a571-29a7979489c0",
   "metadata": {
    "tags": []
   },
   "outputs": [],
   "source": [
    "os.getcwd()"
   ]
  },
  {
   "cell_type": "code",
   "execution_count": null,
   "id": "5fa1d685-0dc7-4e30-843f-3169e78bdd12",
   "metadata": {
    "scrolled": true,
    "tags": []
   },
   "outputs": [],
   "source": [
    "os.chdir(\"YOUR PATH\")\n",
    "files = os.listdir()\n",
    "os.listdir()"
   ]
  },
  {
   "cell_type": "code",
   "execution_count": null,
   "id": "aeeb74be-bf3e-4af9-8d2c-a217e7fc7ce3",
   "metadata": {
    "tags": []
   },
   "outputs": [],
   "source": [
    "file_sizes = []\n",
    "\n",
    "for i in range(0, len(files)):\n",
    "    width, height = imagesize.get(files[i])\n",
    "    file_sizes.append([files[i],width,height])\n"
   ]
  },
  {
   "cell_type": "code",
   "execution_count": null,
   "id": "54e542d4-6891-464d-8251-523395572ad9",
   "metadata": {
    "tags": []
   },
   "outputs": [],
   "source": [
    "len(file_sizes)"
   ]
  },
  {
   "cell_type": "code",
   "execution_count": null,
   "id": "0f0594bf-9b72-4131-8c04-1be751f8c29c",
   "metadata": {
    "tags": []
   },
   "outputs": [],
   "source": [
    "csv_name = 'YOUR OUTPUT PATH'"
   ]
  },
  {
   "cell_type": "code",
   "execution_count": null,
   "id": "9abfd1b1-b554-4624-b377-3fac9de8dd79",
   "metadata": {
    "tags": []
   },
   "outputs": [],
   "source": [
    "with open(csv_name,'a',newline='',encoding=\"utf-8\") as fd:\n",
    "    writer = csv.writer(fd)\n",
    "    writer.writerows(file_sizes)"
   ]
  }
 ],
 "metadata": {
  "kernelspec": {
   "display_name": "Python 3 (ipykernel)",
   "language": "python",
   "name": "python3"
  },
  "language_info": {
   "codemirror_mode": {
    "name": "ipython",
    "version": 3
   },
   "file_extension": ".py",
   "mimetype": "text/x-python",
   "name": "python",
   "nbconvert_exporter": "python",
   "pygments_lexer": "ipython3",
   "version": "3.11.5"
  }
 },
 "nbformat": 4,
 "nbformat_minor": 5
}
