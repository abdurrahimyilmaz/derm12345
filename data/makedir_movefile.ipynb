{
 "cells": [
  {
   "cell_type": "code",
   "execution_count": null,
   "metadata": {},
   "outputs": [],
   "source": [
    "# This notebook is required if you already merged the data in one file without subfolders\n",
    "import os\n",
    "import shutil\n",
    "import pandas as pd"
   ]
  },
  {
   "cell_type": "code",
   "execution_count": null,
   "metadata": {},
   "outputs": [],
   "source": [
    "os.getcwd()\n",
    "root = 'YOUR PATH'\n",
    "os.chdir(root)"
   ]
  },
  {
   "cell_type": "code",
   "execution_count": null,
   "metadata": {},
   "outputs": [],
   "source": [
    "# Define paths\n",
    "image_folder = 'all_images'  # Folder containing all images\n",
    "metadata_file = 'derm12345_metadata_train.csv'  # Repeat for test data\n",
    "output_folder = 'train'  # Repeat for test data, folder name should be 'test'\n",
    "\n",
    "# Load metadata\n",
    "metadata = pd.read_csv(metadata_file)"
   ]
  },
  {
   "cell_type": "code",
   "execution_count": 22,
   "metadata": {},
   "outputs": [],
   "source": [
    "for label in metadata['label'].unique():\n",
    "    # Create subfolders based on the label\n",
    "    os.makedirs(os.path.join(output_folder, str(label)), exist_ok=True)"
   ]
  },
  {
   "cell_type": "code",
   "execution_count": null,
   "metadata": {},
   "outputs": [],
   "source": [
    "counter = 0\n",
    "\n",
    "for index, row in metadata.iterrows():\n",
    "    img_id = str(row['image_id'])  # Column in metadata for image ID\n",
    "    img_name = f\"{img_id}.jpg\"\n",
    "    label = row['label']  # Column in metadata for label\n",
    "    \n",
    "    # Source and destination paths\n",
    "    src = os.path.join(image_folder, img_name)\n",
    "    dest = os.path.join(output_folder, str(label), img_name)\n",
    "\n",
    "    # Move the image\n",
    "    if os.path.exists(src):\n",
    "        shutil.copy(src, dest)\n",
    "        counter += 1\n",
    "        print(f\"Moved {img_name} to {dest}.\")\n",
    "    else:\n",
    "        print(f\"Image {img_name} not found in the source folder.\")\n",
    "\n",
    "print(f\"{counter} Files have been moved successfully!\")"
   ]
  }
 ],
 "metadata": {
  "kernelspec": {
   "display_name": "tf",
   "language": "python",
   "name": "python3"
  },
  "language_info": {
   "codemirror_mode": {
    "name": "ipython",
    "version": 3
   },
   "file_extension": ".py",
   "mimetype": "text/x-python",
   "name": "python",
   "nbconvert_exporter": "python",
   "pygments_lexer": "ipython3",
   "version": "3.9.19"
  }
 },
 "nbformat": 4,
 "nbformat_minor": 2
}
